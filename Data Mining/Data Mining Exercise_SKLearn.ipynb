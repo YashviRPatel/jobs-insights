{
  "nbformat": 4,
  "nbformat_minor": 0,
  "metadata": {
    "colab": {
      "provenance": []
    },
    "kernelspec": {
      "name": "python3",
      "display_name": "Python 3"
    },
    "language_info": {
      "name": "python"
    }
  },
  "cells": [
    {
      "cell_type": "code",
      "execution_count": 2,
      "metadata": {
        "id": "BKaH8dda5BMa"
      },
      "outputs": [],
      "source": [
        "import pandas as pd\n",
        "from sklearn.feature_extraction.text import TfidfVectorizer\n",
        "from sklearn.linear_model import LinearRegression\n",
        "from sklearn.metrics import r2_score\n",
        "import matplotlib.pyplot as plt\n",
        "import numpy as np\n",
        "\n",
        "# Load the dataset into a pandas DataFrame\n",
        "df = pd.read_csv('/content/drive/MyDrive/Colab Notebooks/reviews_sentimental_analysis.csv', delimiter=',')\n",
        "\n",
        "# Replace null or NaN values with empty string\n",
        "df['r_cons'] = df['r_cons'].fillna('')\n",
        "df['r_pros'] = df['r_pros'].fillna('')\n",
        "\n",
        "# Vectorize the review text using TF-IDF\n",
        "vectorizer = TfidfVectorizer()\n",
        "X = vectorizer.fit_transform(df['r_cons'] + ' ' + df['r_pros'])\n",
        "\n",
        "# Train a linear regression model to predict the company rating based on the review text\n",
        "model = LinearRegression()\n",
        "model.fit(X, df['r_company_rating'])\n",
        "\n"
      ]
    },
    {
      "cell_type": "code",
      "source": [
        "# Predict the overall employer score based on the pros and cons\n",
        "df['overall_score'] = model.predict(X)\n",
        "\n",
        "# # Clip the predicted scores to the range of 1-10\n",
        "# df['overall_score'] = np.clip(df['overall_score'], 1, 5)\n",
        "\n",
        "# Group the data by employer name and calculate the mean overall score for each employer\n",
        "df_mean = df.groupby(['header_employer_name'])['overall_score'].mean().reset_index()\n",
        "\n",
        "# # Evaluate the performance of the model on the training data\n",
        "# y_pred_train = model.predict(X)\n",
        "# r2 = r2_score(df['r_company_rating'], y_pred_train)\n",
        "# print('Training R^2 score: {:.2f}'.format(r2))\n",
        "\n",
        "# K-fold cross validation\n",
        "# Split the data into k folds\n",
        "k = 5\n",
        "folds = np.array_split(df, k)\n",
        "\n",
        "# Perform k-fold cross-validation\n",
        "scores = []\n",
        "for i in range(k):\n",
        "    # Split the data into training and validation sets\n",
        "    validation_data = folds[i]\n",
        "    training_data = pd.concat([fold for j, fold in enumerate(folds) if j != i])\n",
        "    \n",
        "    # Train the model on the training data\n",
        "    vectorizer = TfidfVectorizer()\n",
        "    X_train = vectorizer.fit_transform(training_data['r_cons'] + ' ' + training_data['r_pros'])\n",
        "    y_train = training_data['r_company_rating']\n",
        "    model = LinearRegression()\n",
        "    model.fit(X_train, y_train)\n",
        "    \n",
        "    # Evaluate the model on the validation data\n",
        "    X_val = vectorizer.transform(validation_data['r_cons'] + ' ' + validation_data['r_pros'])\n",
        "    y_val = validation_data['r_company_rating']\n",
        "    y_pred = model.predict(X_val)\n",
        "    score = r2_score(y_val, y_pred)\n",
        "    scores.append(score)\n",
        "\n",
        "# Compute the mean score across all folds\n",
        "mean_score = np.mean(scores)\n",
        "print('Mean R-squared:', mean_score)\n",
        "\n",
        "\n",
        "# Create a bar plot with employer names on the x-axis and predicted overall employer scores on the y-axis\n",
        "plt.bar(df_mean['header_employer_name'], df_mean['overall_score'])\n",
        "plt.xlabel('Employer Name')\n",
        "plt.ylabel('Predicted Overall Employer Score')\n",
        "plt.show()"
      ],
      "metadata": {
        "colab": {
          "base_uri": "https://localhost:8080/"
        },
        "id": "kSOL54qm8SjW",
        "outputId": "ea65b12f-15f5-4662-925a-e760743da19b"
      },
      "execution_count": 8,
      "outputs": [
        {
          "output_type": "stream",
          "name": "stdout",
          "text": [
            "Mean R-squared: -1.1207752991997757\n"
          ]
        }
      ]
    }
  ]
}